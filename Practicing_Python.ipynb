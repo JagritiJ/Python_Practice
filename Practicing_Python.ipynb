{
 "cells": [
  {
   "cell_type": "markdown",
   "metadata": {},
   "source": [
    "\n",
    "\n",
    "https://anandology.com/python-practice-book/getting-started.html , \n",
    "\n",
    "https://learningweek.upgrad.com/v/course/140/session/11364/segment/56061\n",
    "\n",
    "\n",
    "- Indentation \n",
    "- Multiple assignments of variables in 1 go"
   ]
  },
  {
   "cell_type": "markdown",
   "metadata": {},
   "source": [
    "### Using Python Interpretor for calculations"
   ]
  },
  {
   "cell_type": "code",
   "execution_count": 1,
   "metadata": {},
   "outputs": [
    {
     "name": "stdout",
     "output_type": "stream",
     "text": [
      "6 4\n"
     ]
    }
   ],
   "source": [
    "x, y = 2, 6 \n",
    "x, y = y, x + 2 \n",
    "print (x, y)"
   ]
  },
  {
   "cell_type": "code",
   "execution_count": 2,
   "metadata": {},
   "outputs": [
    {
     "ename": "NameError",
     "evalue": "name 'c' is not defined",
     "output_type": "error",
     "traceback": [
      "\u001b[0;31m---------------------------------------------------------------------------\u001b[0m",
      "\u001b[0;31mNameError\u001b[0m                                 Traceback (most recent call last)",
      "\u001b[0;32m<ipython-input-2-91ce9914491c>\u001b[0m in \u001b[0;36m<module>\u001b[0;34m()\u001b[0m\n\u001b[1;32m      1\u001b[0m \u001b[0ma\u001b[0m\u001b[0;34m,\u001b[0m \u001b[0mb\u001b[0m \u001b[0;34m=\u001b[0m \u001b[0;36m2\u001b[0m\u001b[0;34m,\u001b[0m \u001b[0;36m3\u001b[0m\u001b[0;34m\u001b[0m\u001b[0m\n\u001b[0;32m----> 2\u001b[0;31m \u001b[0mc\u001b[0m\u001b[0;34m,\u001b[0m \u001b[0mb\u001b[0m \u001b[0;34m=\u001b[0m \u001b[0ma\u001b[0m\u001b[0;34m,\u001b[0m \u001b[0mc\u001b[0m \u001b[0;34m+\u001b[0m \u001b[0;36m1\u001b[0m\u001b[0;34m\u001b[0m\u001b[0m\n\u001b[0m\u001b[1;32m      3\u001b[0m \u001b[0mprint\u001b[0m \u001b[0;34m(\u001b[0m\u001b[0ma\u001b[0m\u001b[0;34m,\u001b[0m \u001b[0mb\u001b[0m\u001b[0;34m,\u001b[0m \u001b[0mc\u001b[0m\u001b[0;34m)\u001b[0m\u001b[0;34m\u001b[0m\u001b[0m\n",
      "\u001b[0;31mNameError\u001b[0m: name 'c' is not defined"
     ]
    }
   ],
   "source": [
    "a, b = 2, 3\n",
    "c, b = a, c + 1\n",
    "print (a, b, c)"
   ]
  },
  {
   "cell_type": "markdown",
   "metadata": {},
   "source": [
    "Python supports the following operators on numbers.\n",
    "\n",
    "- + addition\n",
    "- - subtraction\n",
    "- * multiplication\n",
    "- / division - gives float\n",
    "- // integer division\n",
    "- ** exponent\n",
    "- % remainder\n",
    "\n",
    "++ and -- are not supported\n"
   ]
  },
  {
   "cell_type": "code",
   "execution_count": 3,
   "metadata": {
    "collapsed": true
   },
   "outputs": [],
   "source": [
    "x=3\n",
    "def square(x):\n",
    "    return x*x"
   ]
  },
  {
   "cell_type": "code",
   "execution_count": 4,
   "metadata": {},
   "outputs": [
    {
     "data": {
      "text/plain": [
       "16"
      ]
     },
     "execution_count": 4,
     "metadata": {},
     "output_type": "execute_result"
    }
   ],
   "source": [
    "square(4)"
   ]
  },
  {
   "cell_type": "markdown",
   "metadata": {},
   "source": [
    "Multi-line strings can be written using three single quotes or three double quotes.\n",
    "\n",
    "x = \"\"\"This is a multi-line string\n",
    "written in\n",
    "three lines.\"\"\"\n",
    "print x\n",
    "\n",
    "y = '''multi-line strings can be written\n",
    "using three single quote characters as well.\n",
    "The string can contain 'single quotes' or \"double quotes\"\n",
    "in side it.'''\n",
    "print y\n"
   ]
  },
  {
   "cell_type": "code",
   "execution_count": 5,
   "metadata": {
    "collapsed": true
   },
   "outputs": [],
   "source": [
    "def area(r):\n",
    "    pi =3.14\n",
    "    return (pi*r*r)"
   ]
  },
  {
   "cell_type": "code",
   "execution_count": 6,
   "metadata": {},
   "outputs": [
    {
     "data": {
      "text/plain": [
       "78.5"
      ]
     },
     "execution_count": 6,
     "metadata": {},
     "output_type": "execute_result"
    }
   ],
   "source": [
    "area(5)"
   ]
  },
  {
   "cell_type": "markdown",
   "metadata": {},
   "source": [
    "### Global and Local Variables"
   ]
  },
  {
   "cell_type": "code",
   "execution_count": 7,
   "metadata": {
    "collapsed": true
   },
   "outputs": [],
   "source": [
    "numcalls = 0\n",
    "def square(x):\n",
    "    global numcalls\n",
    "    numcalls = numcalls + 1\n",
    "    print(numcalls)\n",
    "    return x * x"
   ]
  },
  {
   "cell_type": "code",
   "execution_count": 8,
   "metadata": {},
   "outputs": [
    {
     "name": "stdout",
     "output_type": "stream",
     "text": [
      "1\n"
     ]
    },
    {
     "data": {
      "text/plain": [
       "25"
      ]
     },
     "execution_count": 8,
     "metadata": {},
     "output_type": "execute_result"
    }
   ],
   "source": [
    "square(5)"
   ]
  },
  {
   "cell_type": "code",
   "execution_count": 9,
   "metadata": {},
   "outputs": [
    {
     "name": "stdout",
     "output_type": "stream",
     "text": [
      "2\n"
     ]
    },
    {
     "data": {
      "text/plain": [
       "100"
      ]
     },
     "execution_count": 9,
     "metadata": {},
     "output_type": "execute_result"
    }
   ],
   "source": [
    "square(2*5)\n"
   ]
  },
  {
   "cell_type": "code",
   "execution_count": 10,
   "metadata": {},
   "outputs": [
    {
     "name": "stdout",
     "output_type": "stream",
     "text": [
      "1\n",
      "2\n",
      "1\n"
     ]
    }
   ],
   "source": [
    "# Scope of the variable\n",
    "\n",
    "x = 1\n",
    "def f():\n",
    "    x = 2\n",
    "    return x\n",
    "print (x)\n",
    "print (f())\n",
    "print (x)"
   ]
  },
  {
   "cell_type": "code",
   "execution_count": 11,
   "metadata": {},
   "outputs": [
    {
     "name": "stdout",
     "output_type": "stream",
     "text": [
      "1\n",
      "2\n",
      "1\n"
     ]
    }
   ],
   "source": [
    "x = 1\n",
    "def f():\n",
    "        y = x\n",
    "        #x = 2\n",
    "        return x + y\n",
    "print (x)\n",
    "print (f())\n",
    "print (x)"
   ]
  },
  {
   "cell_type": "code",
   "execution_count": 12,
   "metadata": {},
   "outputs": [
    {
     "data": {
      "text/plain": [
       "3"
      ]
     },
     "execution_count": 12,
     "metadata": {},
     "output_type": "execute_result"
    }
   ],
   "source": [
    "def difference(x, y):\n",
    "    return x - y\n",
    "difference(5, 2)\n",
    "difference(x=5, y=2)\n",
    "difference(5, y=2)\n",
    "difference(y=2, x=5)\n"
   ]
  },
  {
   "cell_type": "code",
   "execution_count": 16,
   "metadata": {
    "collapsed": true
   },
   "outputs": [],
   "source": [
    "def count_digits(x):\n",
    "    c=0\n",
    "    q = x/10\n",
    "    while(q>=0): \n",
    "        q = x/10\n",
    "        r = x%10\n",
    "        c=c+1\n",
    "    return c\n",
    "\n",
    "#l = \"12345\"\n",
    "#print (len(l))\n",
    "    "
   ]
  },
  {
   "cell_type": "code",
   "execution_count": 19,
   "metadata": {
    "collapsed": true
   },
   "outputs": [],
   "source": [
    "#count_digits(12345)"
   ]
  },
  {
   "cell_type": "code",
   "execution_count": 20,
   "metadata": {},
   "outputs": [
    {
     "name": "stdout",
     "output_type": "stream",
     "text": [
      "2 9\n"
     ]
    }
   ],
   "source": [
    "x = 2\n",
    "def f(a):\n",
    "    x = a * a\n",
    "    return x\n",
    "y = f(3)\n",
    "print (x, y)"
   ]
  },
  {
   "cell_type": "markdown",
   "metadata": {},
   "source": [
    "### Inbuilt functions"
   ]
  },
  {
   "cell_type": "code",
   "execution_count": 21,
   "metadata": {},
   "outputs": [
    {
     "data": {
      "text/plain": [
       "2"
      ]
     },
     "execution_count": 21,
     "metadata": {},
     "output_type": "execute_result"
    }
   ],
   "source": [
    "min(2,3)"
   ]
  },
  {
   "cell_type": "code",
   "execution_count": 22,
   "metadata": {},
   "outputs": [
    {
     "data": {
      "text/plain": [
       "3"
      ]
     },
     "execution_count": 22,
     "metadata": {},
     "output_type": "execute_result"
    }
   ],
   "source": [
    "max(2,3)"
   ]
  },
  {
   "cell_type": "code",
   "execution_count": 23,
   "metadata": {},
   "outputs": [
    {
     "data": {
      "text/plain": [
       "90"
      ]
     },
     "execution_count": 23,
     "metadata": {},
     "output_type": "execute_result"
    }
   ],
   "source": [
    "max([12, 5, 8, 90])"
   ]
  },
  {
   "cell_type": "code",
   "execution_count": 24,
   "metadata": {},
   "outputs": [
    {
     "data": {
      "text/plain": [
       "4"
      ]
     },
     "execution_count": 24,
     "metadata": {},
     "output_type": "execute_result"
    }
   ],
   "source": [
    "mylist =[2,3,3,3,3,4,4]\n",
    "max(mylist)"
   ]
  },
  {
   "cell_type": "code",
   "execution_count": 25,
   "metadata": {},
   "outputs": [
    {
     "data": {
      "text/plain": [
       "4"
      ]
     },
     "execution_count": 25,
     "metadata": {},
     "output_type": "execute_result"
    }
   ],
   "source": [
    "len(\"1234\")"
   ]
  },
  {
   "cell_type": "code",
   "execution_count": 26,
   "metadata": {},
   "outputs": [
    {
     "data": {
      "text/plain": [
       "5"
      ]
     },
     "execution_count": 26,
     "metadata": {},
     "output_type": "execute_result"
    }
   ],
   "source": [
    "len(\"hello\")"
   ]
  },
  {
   "cell_type": "code",
   "execution_count": 27,
   "metadata": {},
   "outputs": [
    {
     "data": {
      "text/plain": [
       "'12345'"
      ]
     },
     "execution_count": 27,
     "metadata": {},
     "output_type": "execute_result"
    }
   ],
   "source": [
    "str(12345)"
   ]
  },
  {
   "cell_type": "code",
   "execution_count": 28,
   "metadata": {},
   "outputs": [
    {
     "data": {
      "text/plain": [
       "'HELLO'"
      ]
     },
     "execution_count": 28,
     "metadata": {},
     "output_type": "execute_result"
    }
   ],
   "source": [
    "'hello'.upper()"
   ]
  },
  {
   "cell_type": "code",
   "execution_count": 29,
   "metadata": {},
   "outputs": [
    {
     "data": {
      "text/plain": [
       "'jags'"
      ]
     },
     "execution_count": 29,
     "metadata": {},
     "output_type": "execute_result"
    }
   ],
   "source": [
    "\"jaGS\".lower()"
   ]
  },
  {
   "cell_type": "code",
   "execution_count": 30,
   "metadata": {},
   "outputs": [
    {
     "name": "stdout",
     "output_type": "stream",
     "text": [
      "hello\n"
     ]
    }
   ],
   "source": [
    "if(str(\"1234\")==str(\"alpha\")):\n",
    "      print (\"hi\")\n",
    "else: print(\"hello\")    "
   ]
  },
  {
   "cell_type": "code",
   "execution_count": 31,
   "metadata": {
    "collapsed": true
   },
   "outputs": [],
   "source": [
    "\n",
    "def mystrcmp(x,y):\n",
    "    #print (x.lower(),y.lower())\n",
    "    if (x.lower()) == (y.lower()):\n",
    "          print (\"true\")\n",
    "    else: print (\"false\")        \n",
    "        \n",
    "        \n",
    "        \n",
    "    \n",
    "    "
   ]
  },
  {
   "cell_type": "code",
   "execution_count": 32,
   "metadata": {},
   "outputs": [
    {
     "name": "stdout",
     "output_type": "stream",
     "text": [
      "true\n",
      "false\n",
      "true\n",
      "true\n",
      "true\n"
     ]
    }
   ],
   "source": [
    "mystrcmp(\"python\", \"python\")\n",
    "mystrcmp(\"python\", \"a\")\n",
    "mystrcmp(\"python\", \"PYTHON\")\n",
    "mystrcmp(\"python\", \"pytHOn\")\n",
    "mystrcmp(\"python\", \"pYTHON\")\n",
    "\n",
    "\n",
    "\n"
   ]
  },
  {
   "cell_type": "code",
   "execution_count": 33,
   "metadata": {},
   "outputs": [
    {
     "name": "stdout",
     "output_type": "stream",
     "text": [
      "1\n",
      "1\n"
     ]
    }
   ],
   "source": [
    "x = 1\n",
    "def f():\n",
    "    return x\n",
    "print (x)\n",
    "print (f())"
   ]
  },
  {
   "cell_type": "code",
   "execution_count": 34,
   "metadata": {},
   "outputs": [
    {
     "name": "stdout",
     "output_type": "stream",
     "text": [
      "1\n",
      "2\n",
      "1\n"
     ]
    }
   ],
   "source": [
    "x = 1\n",
    "def f():\n",
    "    x = 2\n",
    "    return x\n",
    "print (x)\n",
    "print (f())\n",
    "print (x)"
   ]
  },
  {
   "cell_type": "markdown",
   "metadata": {},
   "source": [
    "### Here is the list of available conditional operators.\n",
    "\n",
    "- == equal to\n",
    "- != not equal to\n",
    "- \"<\" less than\n",
    "- \">\" greater than\n",
    "- \"<=\" less than or equal to\n",
    "- \">=\" greater than or equal to\n"
   ]
  },
  {
   "cell_type": "markdown",
   "metadata": {},
   "source": [
    "### There are few logical operators to combine boolean values.\n",
    "\n",
    "- a and b is True only if both a and b are True.\n",
    "- a or b is True if either a or b is True.\n",
    "- not a is True only if a is False.\n"
   ]
  },
  {
   "cell_type": "code",
   "execution_count": 35,
   "metadata": {},
   "outputs": [
    {
     "name": "stdout",
     "output_type": "stream",
     "text": [
      "True\n"
     ]
    }
   ],
   "source": [
    "x = 4\n",
    "y = 5\n",
    "p = x < y or x < z\n",
    "print (p)"
   ]
  },
  {
   "cell_type": "code",
   "execution_count": 36,
   "metadata": {},
   "outputs": [
    {
     "name": "stdout",
     "output_type": "stream",
     "text": [
      "5\n"
     ]
    }
   ],
   "source": [
    "\n",
    "x = 3\n",
    "if x == 2:\n",
    "    print (x)\n",
    "else:\n",
    "    print (y)"
   ]
  },
  {
   "cell_type": "markdown",
   "metadata": {},
   "source": [
    "### modules or libraries"
   ]
  },
  {
   "cell_type": "code",
   "execution_count": 37,
   "metadata": {},
   "outputs": [
    {
     "data": {
      "text/plain": [
       "'Sat Feb 17 17:20:52 2018'"
      ]
     },
     "execution_count": 37,
     "metadata": {},
     "output_type": "execute_result"
    }
   ],
   "source": [
    "import time\n",
    "time.asctime()\n",
    "\n"
   ]
  },
  {
   "cell_type": "code",
   "execution_count": 39,
   "metadata": {},
   "outputs": [
    {
     "name": "stdout",
     "output_type": "stream",
     "text": [
      "-f\n"
     ]
    }
   ],
   "source": [
    "import sys\n",
    "print (sys.argv[1])\n"
   ]
  },
  {
   "cell_type": "markdown",
   "metadata": {},
   "source": [
    "### Lists\n",
    "- data structure in python\n",
    "- can contain members of any datatypes\n",
    "- list can conatin anoter list inside it\n",
    "- some functions - len(list1)\n",
    "- doesn't work with Python 3 - range(4) - creates a list of numbers till 4\n",
    "- \"+\" and - operators work with lists\n",
    "- List can be indexed to get individual entries. Value of index can go from 0 to (length of list - 1).\n",
    "- Slicing to get a part of the list\n",
    "- Append function\n",
    "- Zip function\n",
    "- Sum() function\n"
   ]
  },
  {
   "cell_type": "code",
   "execution_count": 41,
   "metadata": {},
   "outputs": [
    {
     "data": {
      "text/plain": [
       "range(0, 5)"
      ]
     },
     "execution_count": 41,
     "metadata": {},
     "output_type": "execute_result"
    }
   ],
   "source": [
    "range(5)"
   ]
  },
  {
   "cell_type": "code",
   "execution_count": 42,
   "metadata": {},
   "outputs": [
    {
     "data": {
      "text/plain": [
       "range(3, 6)"
      ]
     },
     "execution_count": 42,
     "metadata": {},
     "output_type": "execute_result"
    }
   ],
   "source": [
    "range(3,6)"
   ]
  },
  {
   "cell_type": "code",
   "execution_count": 44,
   "metadata": {
    "collapsed": true
   },
   "outputs": [],
   "source": [
    "a=[1.4, 5.6,7]\n",
    "b=['y', 5, 'u']"
   ]
  },
  {
   "cell_type": "code",
   "execution_count": 46,
   "metadata": {},
   "outputs": [
    {
     "data": {
      "text/plain": [
       "[1.4, 5.6, 7, 'y', 5, 'u']"
      ]
     },
     "execution_count": 46,
     "metadata": {},
     "output_type": "execute_result"
    }
   ],
   "source": [
    "l=a+b\n",
    "l"
   ]
  },
  {
   "cell_type": "code",
   "execution_count": 49,
   "metadata": {},
   "outputs": [
    {
     "data": {
      "text/plain": [
       "5.6"
      ]
     },
     "execution_count": 49,
     "metadata": {},
     "output_type": "execute_result"
    }
   ],
   "source": [
    "l[1]\n"
   ]
  },
  {
   "cell_type": "code",
   "execution_count": 52,
   "metadata": {},
   "outputs": [
    {
     "data": {
      "text/plain": [
       "'u'"
      ]
     },
     "execution_count": 52,
     "metadata": {},
     "output_type": "execute_result"
    }
   ],
   "source": [
    "\n",
    "l[-1]"
   ]
  },
  {
   "cell_type": "code",
   "execution_count": 53,
   "metadata": {},
   "outputs": [
    {
     "data": {
      "text/plain": [
       "1.4"
      ]
     },
     "execution_count": 53,
     "metadata": {},
     "output_type": "execute_result"
    }
   ],
   "source": [
    "l[0]"
   ]
  },
  {
   "cell_type": "code",
   "execution_count": 82,
   "metadata": {},
   "outputs": [
    {
     "data": {
      "text/plain": [
       "[7, 'y', 5]"
      ]
     },
     "execution_count": 82,
     "metadata": {},
     "output_type": "execute_result"
    }
   ],
   "source": [
    "# Even negative indices can be used in slicing. For example, the following examples strips the last element from the list.\n",
    "l[2:-1]"
   ]
  },
  {
   "cell_type": "code",
   "execution_count": 83,
   "metadata": {},
   "outputs": [
    {
     "name": "stdout",
     "output_type": "stream",
     "text": [
      "range(0, 10)\n"
     ]
    }
   ],
   "source": [
    "#An optional third index can be used to specify the increment, which defaults to 1.\n",
    "\n",
    "x = range(10)\n",
    "print (x)\n"
   ]
  },
  {
   "cell_type": "code",
   "execution_count": 84,
   "metadata": {},
   "outputs": [
    {
     "data": {
      "text/plain": [
       "range(0, 6, 2)"
      ]
     },
     "execution_count": 84,
     "metadata": {},
     "output_type": "execute_result"
    }
   ],
   "source": [
    "x[0:6:2]\n"
   ]
  },
  {
   "cell_type": "code",
   "execution_count": 85,
   "metadata": {},
   "outputs": [
    {
     "name": "stdout",
     "output_type": "stream",
     "text": [
      "range(0, 10)\n"
     ]
    },
    {
     "data": {
      "text/plain": [
       "range(9, -1, -1)"
      ]
     },
     "execution_count": 85,
     "metadata": {},
     "output_type": "execute_result"
    }
   ],
   "source": [
    "#We can reverse a list, just by providing -1 for increment.\n",
    "x = range(10)\n",
    "print(x)\n",
    "x[::-1]"
   ]
  },
  {
   "cell_type": "code",
   "execution_count": 86,
   "metadata": {},
   "outputs": [
    {
     "name": "stdout",
     "output_type": "stream",
     "text": [
      "[5, 6, [3]]\n",
      "[5, 6, [3, 4]]\n",
      "[5, 6, 2]\n"
     ]
    }
   ],
   "source": [
    "x = [5, 6, [8]]\n",
    "x[2][0] = 3\n",
    "#x[2][1] = 9 gives \"list assignment index out of range\"\n",
    "print (x)\n",
    "x[2].append(4)\n",
    "print (x)\n",
    "x[2] = 2\n",
    "print (x)"
   ]
  },
  {
   "cell_type": "markdown",
   "metadata": {},
   "source": [
    "### Loops"
   ]
  },
  {
   "cell_type": "code",
   "execution_count": 88,
   "metadata": {},
   "outputs": [
    {
     "name": "stdout",
     "output_type": "stream",
     "text": [
      "1\n",
      "2\n",
      "3\n",
      "4\n"
     ]
    }
   ],
   "source": [
    "for x in [1, 2, 3, 4]:\n",
    "    print (x)\n"
   ]
  },
  {
   "cell_type": "code",
   "execution_count": 90,
   "metadata": {},
   "outputs": [
    {
     "name": "stdout",
     "output_type": "stream",
     "text": [
      "0\n",
      "1\n",
      "2\n",
      "3\n",
      "4\n",
      "5\n",
      "6\n",
      "7\n",
      "8\n",
      "9\n"
     ]
    }
   ],
   "source": [
    "for x in range(10):\n",
    "    print(x)"
   ]
  },
  {
   "cell_type": "code",
   "execution_count": 91,
   "metadata": {},
   "outputs": [
    {
     "name": "stdout",
     "output_type": "stream",
     "text": [
      "0 0 0\n",
      "1 1 1\n",
      "2 4 8\n"
     ]
    }
   ],
   "source": [
    "for i  in range(3):\n",
    "    print (i, i*i, i*i*i)"
   ]
  },
  {
   "cell_type": "code",
   "execution_count": 94,
   "metadata": {},
   "outputs": [
    {
     "data": {
      "text/plain": [
       "<zip at 0x1114f9c48>"
      ]
     },
     "execution_count": 94,
     "metadata": {},
     "output_type": "execute_result"
    }
   ],
   "source": [
    "#The built-in function zip takes two lists and returns list of pairs - doesn't work in Python 3\n",
    "\n",
    "zip([\"a\", \"b\", \"c\"], [1, 2, 3])"
   ]
  },
  {
   "cell_type": "code",
   "execution_count": 98,
   "metadata": {},
   "outputs": [
    {
     "name": "stdout",
     "output_type": "stream",
     "text": [
      "a 1\n",
      "b 2\n",
      "c 3\n"
     ]
    }
   ],
   "source": [
    "names = [\"a\", \"b\", \"c\"]\n",
    "values = [1, 2, 3]\n",
    "for name, value in zip(names, values):\n",
    "    print (name, value)"
   ]
  },
  {
   "cell_type": "code",
   "execution_count": 99,
   "metadata": {},
   "outputs": [
    {
     "data": {
      "text/plain": [
       "6"
      ]
     },
     "execution_count": 99,
     "metadata": {},
     "output_type": "execute_result"
    }
   ],
   "source": [
    "sum([1, 2, 3])"
   ]
  },
  {
   "cell_type": "code",
   "execution_count": 103,
   "metadata": {},
   "outputs": [
    {
     "data": {
      "text/plain": [
       "11"
      ]
     },
     "execution_count": 103,
     "metadata": {},
     "output_type": "execute_result"
    }
   ],
   "source": [
    "sum([6, 5])"
   ]
  },
  {
   "cell_type": "code",
   "execution_count": 111,
   "metadata": {
    "collapsed": true
   },
   "outputs": [],
   "source": [
    "#function to multiply numbers"
   ]
  },
  {
   "cell_type": "code",
   "execution_count": 110,
   "metadata": {},
   "outputs": [
    {
     "data": {
      "text/plain": [
       "6"
      ]
     },
     "execution_count": 110,
     "metadata": {},
     "output_type": "execute_result"
    }
   ],
   "source": [
    "def product(x, y, z):\n",
    "    return x*y*z\n",
    "product(1, 2, 3)"
   ]
  },
  {
   "cell_type": "markdown",
   "metadata": {},
   "source": [
    "#factorial of a number\n",
    "def factorial(x)\n",
    "    "
   ]
  },
  {
   "cell_type": "markdown",
   "metadata": {},
   "source": [
    "Problem A. Burger Optimization\n",
    "Confused? Read the quick-start guide.\n",
    "Small input\n",
    "5 points\t\n",
    "Solve A-small\n",
    "You may try multiple times, with penalties for wrong submissions.\n",
    "Large input\n",
    "9 points\t\n",
    "You must solve the small input first.\n",
    "You have 8 minutes to solve 1 input file. (Judged after contest.)\n",
    "Problem\n",
    "In 2017, Google learned about a serious Android bug: in the burger emoji, the cheese was directly on top of the lower bun, rather than on the patty itself. Really, who makes a burger that way? Sundar, our CEO, vowed to drop everything and address this issue immediately.\n",
    "\n",
    "To prevent this sort of situation in the future, the Code Jam team has constructed a mathematical model for understanding burgers. A burger consists of a stack of K ingredients between two buns, with each ingredient appearing exactly once. We are interested in the distance-to-bun value of each ingredient. The distance-to-bun value of an ingredient is the minimum number of other ingredients between the that ingredient and a bun:\n",
    "\n",
    "If K is even, then the distance-to-bun values for the ingredients (starting with the ingredient at the top of the stack) are: 0, 1, ..., K/2 - 1, K/2 - 1, ..., 1, 0.\n",
    "If K is odd, then they are: 0, 1, ..., ((K - 1) / 2) - 1, (K - 1) / 2, ((K - 1) / 2) - 1, ..., 1, 0.\n",
    "After carrying out a lot of focus group testing (and eating a lot of burgers), we have determined that the i-th of each of our K ingredients has an optimal distance-to-bun value of Di. We think our burger emoji users will be happiest if we choose an ordering for our ingredients that minimizes the error value, which we define as the sum of the squared differences between each ingredient's optimal and actual distance-to-bun values.\n",
    "\n",
    "For example, if we have five ingredients A, B, C, D, and E with optimal distance-to-bun values of 0, 2, 1, 1, and 2, and we place them between the buns in that order, then the error is (0-0)2 + (2-1)2 + (1-2)2 + (1-1)2 + (2-0)2 = 6. If we instead place them in the order C, E, B, D, A, then the error is (1-0)2 + (2-1)2 + (2-2)2 + (1-1)2 + (0-0)2 = 2, which turns out to be the minimum possible error for these ingredients.\n",
    "\n",
    "Given the list of optimal distance-to-bun values for our ingredients, can you help us determine the smallest possible error?\n",
    "\n",
    "Input\n",
    "The first line of the input gives the number of test cases, T; T test cases follow. Each begins with one line containing an integer K: the number of ingredients in our burger. Then, there is one more line containing K integers Di, the optimal distance-to-bun values of our ingredients.\n",
    "\n",
    "Output\n",
    "For each test case, output one line containing Case #x: y, where x is the test case number (starting from 1) and y is the smallest possible error, as described above.\n",
    "\n",
    "Limits\n",
    "1 ≤ T ≤ 100.\n",
    "0 ≤ Di ≤ floor((K-1)/2), for all i. (Each optimal distance-to-bun value is within the range of attainable distance-to-bun values.)\n",
    "Small dataset\n",
    "1 ≤ K ≤ 8.\n",
    "Large dataset\n",
    "1 ≤ K ≤ 100.\n",
    "Sample\n",
    "\n",
    "Input \n",
    " \t\n",
    "Output \n",
    " \n",
    "3\n",
    "5\n",
    "0 2 1 1 2\n",
    "1\n",
    "0\n",
    "6\n",
    "2 2 2 2 2 2\n",
    "\n",
    "Case #1: 2\n",
    "Case #2: 0\n",
    "Case #3: 10\n",
    "Sample Case #1 is the one illustrated in the problem statement.\n",
    "\n",
    "In Sample Case #2, there is only one ingredient in the burger; that is not much of a burger, but our model has to be able to handle this base case! There is no confusion over how to place the one ingredient, and the error is 0.\n",
    "\n",
    "In Sample Case #3, there are six ingredients, but all of them have an optimal distance-to-bun of 2. Any way of placing them is equivalent, and the error is 22 + 12 + 02 + 02 + 12 + 22 = 10.\n",
    "\n"
   ]
  },
  {
   "cell_type": "code",
   "execution_count": null,
   "metadata": {
    "collapsed": true
   },
   "outputs": [],
   "source": [
    "t=input()\n",
    "k=input()\n",
    "# define an empty list\n",
    "a[]\n",
    "#read the next lines\n",
    "\n",
    "while(k!=0):\n",
    "    a.append(input()) \n",
    "#print(a[])    "
   ]
  },
  {
   "cell_type": "code",
   "execution_count": 117,
   "metadata": {},
   "outputs": [
    {
     "name": "stdout",
     "output_type": "stream",
     "text": [
      "Your age? 26\n"
     ]
    }
   ],
   "source": [
    "age = input(\"Your age? \")\n"
   ]
  },
  {
   "cell_type": "code",
   "execution_count": 118,
   "metadata": {},
   "outputs": [
    {
     "data": {
      "text/plain": [
       "'26'"
      ]
     },
     "execution_count": 118,
     "metadata": {},
     "output_type": "execute_result"
    }
   ],
   "source": [
    "age"
   ]
  },
  {
   "cell_type": "code",
   "execution_count": null,
   "metadata": {
    "collapsed": true
   },
   "outputs": [],
   "source": [
    "t=input()\n",
    "k=input()\n",
    "# define an empty list\n",
    "#read the next lines\n",
    "a=[]\n",
    "#while(k!=0):\n",
    "#for i in range(1 to k)\n",
    "    a.append(input()) \n",
    "   # print(a)    \n",
    "   \n",
    "#print(a)\n",
    "# k is odd or even\n",
    "if(k%2==0):\n",
    "  #it's even\n",
    "  mid = k/2\n",
    "else: \n",
    "    mid1 = (k-1)/2  #it's odd \n",
    "    mid2 = (k-1)/2 -1\n",
    "#sort \n",
    "sort(a)    \n",
    "for i in range(k):\n",
    "    #for j in range (a)\n",
    "    errorfun = errorfun + (i-a[i] )   "
   ]
  },
  {
   "cell_type": "code",
   "execution_count": null,
   "metadata": {},
   "outputs": [
    {
     "name": "stdout",
     "output_type": "stream",
     "text": [
      "2\n",
      "4 5\n",
      "Case #1: 9 20\n"
     ]
    }
   ],
   "source": [
    "t = int(input())  # read a line with a single integer\n",
    "for i in range(1, t + 1):\n",
    "    n, m = [int(s) for s in input().split(\" \")]  # read a list of integers, 2 in this case\n",
    "    print(\"Case #{}: {} {}\".format(i, n + m, n * m))\n",
    "  # check out .format's specification for more formatting options"
   ]
  },
  {
   "cell_type": "code",
   "execution_count": null,
   "metadata": {
    "collapsed": true
   },
   "outputs": [],
   "source": [
    "# fibonacci series\n",
    "a=[1,1]\n",
    "def fibo(x)\n",
    "    a.append(a[0]+a[1])\n",
    "    return x+(x-1)\n",
    "print(a[])    "
   ]
  },
  {
   "cell_type": "code",
   "execution_count": null,
   "metadata": {
    "collapsed": true
   },
   "outputs": [],
   "source": [
    "# Problem 10: Write a function unique to find all the unique elements of a list.\n",
    "# Find a number is odd or even\n",
    "# Find a number is prime\n",
    "# Fibonacci series\n",
    "# Factorial\n",
    "# Reverse the string\n",
    "# Count the no. of digits \n",
    "# Sort list of items"
   ]
  },
  {
   "cell_type": "markdown",
   "metadata": {
    "collapsed": true
   },
   "source": [
    "-  \\n is used to indicate that you want to move to the next line\n",
    "-  rstrip('bbb whatever'), lstrip(), strip()\n"
   ]
  },
  {
   "cell_type": "code",
   "execution_count": 1,
   "metadata": {},
   "outputs": [
    {
     "name": "stdout",
     "output_type": "stream",
     "text": [
      "hello\n",
      " after this move to new line\n"
     ]
    }
   ],
   "source": [
    "print(\"hello\\n after this move to new line\")"
   ]
  },
  {
   "cell_type": "code",
   "execution_count": 17,
   "metadata": {},
   "outputs": [
    {
     "name": "stdout",
     "output_type": "stream",
     "text": [
      "there is space in the end\n",
      "my percentage is 99\n"
     ]
    }
   ],
   "source": [
    "txt = \"there is space in the end   \"\n",
    "print(txt.rstrip())\n",
    "txt1 = \"my percentage is 99%\"\n",
    "print(txt1.rstrip('%'))"
   ]
  },
  {
   "cell_type": "code",
   "execution_count": 11,
   "metadata": {},
   "outputs": [
    {
     "name": "stdout",
     "output_type": "stream",
     "text": [
      "      there is space in the front\n"
     ]
    },
    {
     "data": {
      "text/plain": [
       "'there is space in the front'"
      ]
     },
     "execution_count": 11,
     "metadata": {},
     "output_type": "execute_result"
    }
   ],
   "source": [
    "txt = \"      there is space in the front\"\n",
    "print(txt)\n",
    "txt.lstrip()\n"
   ]
  },
  {
   "cell_type": "code",
   "execution_count": 18,
   "metadata": {},
   "outputs": [
    {
     "data": {
      "text/plain": [
       "'there is space in the front and back'"
      ]
     },
     "execution_count": 18,
     "metadata": {},
     "output_type": "execute_result"
    }
   ],
   "source": [
    "txt3 =   \"    there is space in the front and back  \"\n",
    "\n",
    "txt3.strip()"
   ]
  },
  {
   "cell_type": "code",
   "execution_count": 20,
   "metadata": {},
   "outputs": [
    {
     "name": "stdout",
     "output_type": "stream",
     "text": [
      "\n"
     ]
    }
   ],
   "source": [
    "# Reading the input as a string; ignore the following two lines\n",
    "import ast, sys\n",
    "input_str = sys.stdin.read()\n",
    "\n",
    "# Write your code here\n",
    "final_str = input_str.strip()\n",
    "print(final_str)"
   ]
  },
  {
   "cell_type": "code",
   "execution_count": 21,
   "metadata": {},
   "outputs": [
    {
     "ename": "NameError",
     "evalue": "name 'gg' is not defined",
     "output_type": "error",
     "traceback": [
      "\u001b[0;31m---------------------------------------------------------------------------\u001b[0m",
      "\u001b[0;31mNameError\u001b[0m                                 Traceback (most recent call last)",
      "\u001b[0;32m<ipython-input-21-920df382ab31>\u001b[0m in \u001b[0;36m<module>\u001b[0;34m()\u001b[0m\n\u001b[0;32m----> 1\u001b[0;31m \u001b[0mgg\u001b[0m\u001b[0;34m\u001b[0m\u001b[0m\n\u001b[0m",
      "\u001b[0;31mNameError\u001b[0m: name 'gg' is not defined"
     ]
    }
   ],
   "source": [
    "gg"
   ]
  },
  {
   "cell_type": "code",
   "execution_count": 29,
   "metadata": {},
   "outputs": [
    {
     "name": "stdout",
     "output_type": "stream",
     "text": [
      "Ravi\n",
      "Kumar\n",
      "003\n"
     ]
    }
   ],
   "source": [
    "import ast,sys\n",
    "#input_str = sys.stdin.read()\n",
    "input_str = 'Kumar_Ravi_003'\n",
    "first_name = input_str[6:10]\n",
    "second_name = input_str[0:5]\n",
    "customer_code = input_str[-3:]\n",
    "print(first_name)\n",
    "print(second_name)\n",
    "print(customer_code)"
   ]
  },
  {
   "cell_type": "code",
   "execution_count": 33,
   "metadata": {},
   "outputs": [
    {
     "name": "stdout",
     "output_type": "stream",
     "text": [
      "13579 24680\n"
     ]
    }
   ],
   "source": [
    "nums = '1234567890'\n",
    "odd_nums = nums[0::2]\n",
    "even_nums = nums[1::2]\n",
    "print(odd_nums, even_nums)"
   ]
  },
  {
   "cell_type": "code",
   "execution_count": 37,
   "metadata": {},
   "outputs": [
    {
     "name": "stdout",
     "output_type": "stream",
     "text": [
      "Data Analysis using Pandas\n"
     ]
    }
   ],
   "source": [
    "A = \"Data\"\n",
    "B = \"Analysis\"\n",
    "C = \"Pandas\"\n",
    "mystr = \"{0} {1} using {2}\".format(A, B, C)\n",
    "print(mystr)"
   ]
  },
  {
   "cell_type": "markdown",
   "metadata": {},
   "source": [
    "- / vs //"
   ]
  },
  {
   "cell_type": "markdown",
   "metadata": {},
   "source": [
    "### Converting Strings to List \n",
    "\n",
    "- say reading contents of the email - makes more sense to be in list than in string\n",
    "- After reading the words from email, we can do text anlayis - pick up adjectives, verbs etc\n",
    "- List to String - use split() - will convert the string to CSV - the CSV  can be used for data analysis\n",
    "- String to List - join()\n"
   ]
  },
  {
   "cell_type": "code",
   "execution_count": 40,
   "metadata": {},
   "outputs": [
    {
     "name": "stdout",
     "output_type": "stream",
     "text": [
      " I love ireland\n",
      " I love ireland\n"
     ]
    }
   ],
   "source": [
    "mystr1 = \" I love ireland\"\n",
    "print(mystr1)\n",
    "mylist1 = mystr1[:]\n",
    "print(mylist1)"
   ]
  },
  {
   "cell_type": "code",
   "execution_count": 44,
   "metadata": {},
   "outputs": [
    {
     "name": "stdout",
     "output_type": "stream",
     "text": [
      "['The', 'island', 'of', 'Ireland', 'historically', 'consists', 'of', '32', 'counties,', 'of', 'which', 'six,', 'collectively', 'known', 'as', 'Northern', 'Ireland,', 'have', 'remained', 'as', 'part', 'of', 'the', 'United', 'Kingdom', 'since', 'the', 'rest', 'of', 'Ireland', 'gained', 'self', 'government', 'in', '1922.', 'The', 'name', '\"Ireland\"', 'applies', 'to', 'the', 'island', 'as', 'a', 'whole,', 'but', 'in', 'English', 'is', 'also', 'the', 'official', 'name', 'of', 'the', 'independent', 'state', '(ie', 'the', '26', 'counties', 'which', 'are', 'not', 'part', 'of', 'the', 'United', 'Kingdom),', 'since', '1921.', 'Celtic', 'tribes', 'settled', 'on', 'the', 'island', 'in', 'the', '4th', 'century', 'BC.', 'Invasions', 'by', 'Norsemen', 'that', 'began', 'in', 'the', 'late', '8th', 'century', 'were', 'finally', 'ended', 'when', 'King', 'Brian', 'Boru', 'defeated', 'the', 'Danes', 'in', '1014.', 'Norman', 'invasions', 'began', 'in', 'the', 'early', '12th', 'century', 'and', 'set', 'in', 'place', \"Ireland's\", 'uneasy', 'position', 'within', \"England's\", 'sphere', 'of', 'influence.', 'The', 'Act', 'of', 'Union', 'of', '1800', '-', 'in', 'which', 'Catholics,', '90%', 'of', 'the', 'Irish', 'population,', 'were', 'excluded', 'from', 'Parliament', '-', 'saw', 'Ireland', 'joining', 'the', 'United', 'Kingdom.', 'In', 'the', 'latter', 'half', 'of', 'the', '19th', 'century', 'and', 'early', '20th', 'century', 'the', 'subject', 'of', 'Irish', 'home', 'rule', 'was', 'a', 'major', 'debate', 'within', 'the', 'British', 'parliament.', 'After', 'several', 'failed', 'attempts,', 'a', 'Home', 'Rule', 'bill', 'finally', 'passed', 'through', 'parliament', 'in', '1914', 'though', 'the', 'start', 'of', 'the', 'first', 'world', 'war', 'saw', 'its', 'indefinite', 'postponement', 'due', 'to', 'heavily', 'armed', 'unionist', 'opposition.', 'A', 'failed', 'rebellion', 'on', 'Easter', 'Monday', 'in', '1916,', '(after', 'which', '15', 'of', 'the', 'surrendered', 'leaders', 'were', 'shot', 'by', 'firing', 'squad', 'and', '1', 'hanged)', 'showed', 'a', 'hint', 'of', 'things', 'to', 'come', 'with', 'years', 'of', 'war', 'to', 'follow,', 'beginning', 'with', 'the', 'Irish', 'War', 'of', 'Independence', '(1919-1921)', 'and', 'continuing', 'with', 'the', 'Irish', 'Civil', 'War', '(1922-1923).', 'Eventually', 'a', 'somewhat', 'stable', 'situation', 'emerged', 'with', 'the', 'self', 'government', 'of', '26', 'of', \"Ireland's\", 'counties', 'known', 'as', 'the', 'Irish', 'Free', 'State;', 'the', 'remaining', 'six,', 'located', 'in', 'the', 'north', 'of', 'the', 'country', 'comprising', 'two-thirds', 'of', 'the', 'ancient', 'province', 'of', 'Ulster,', 'remained', 'part', 'of', 'the', 'United', 'Kingdom', '—', 'a', 'status', 'that', 'has', 'continued', 'to', 'the', 'present', 'day.', 'In', '1949', 'the', 'Irish', 'Free', 'State', 'became', '\"Ireland\"', '(a.k.a.', 'the', 'Republic', 'of', 'Ireland)', 'and', 'withdrew', 'from', 'the', 'British', 'Commonwealth', 'of', 'Nations.', \"Ireland's\", 'history', 'post-partition', 'has', 'been', 'marked', 'with', 'violence,', 'a', 'period', 'known', 'as', '\"The', 'Troubles\",', 'generally', 'regarded', 'as', 'beginning', 'in', 'the', 'late', '1960s,', 'which', 'saw', 'large', 'scale', 'confrontation', 'between', 'opposing', 'paramilitary', 'groups', 'seeking', 'to', 'either', 'keep', 'Northern', 'Ireland', 'as', 'part', 'of', 'the', 'United', 'Kingdom', 'or', 'bring', 'it', 'into', 'Ireland[1]', 'as', 'well', 'as', 'with', 'the', 'security', 'forces.', 'The', 'Troubles', 'saw', 'many', 'ups', 'and', 'downs', 'in', 'intensity', 'of', 'fighting', 'and', 'on', 'many', 'occasions', 'they', 'even', 'spread', 'to', 'terrorist', 'attacks', 'in', 'Britain', 'and', 'continental', 'Europe.', 'Both', 'the', 'government', 'of', 'the', 'UK', 'and', 'Ireland', 'were', 'opposed', 'to', 'all', 'terrorist', 'groups.', 'A', 'peace', 'settlement', 'known', 'as', 'the', 'Good', 'Friday', 'Agreement', 'was', 'finally', 'approved', 'in', '1998', 'and', 'is', 'currently', 'being', 'implemented.', 'All', 'signs', 'point', 'to', 'this', 'agreement', 'holding', 'steady.', 'Though', 'a', 'relatively', 'poor', 'country', 'for', 'much', 'of', 'the', '20th', 'century,', 'Ireland', 'joined', 'the', 'European', 'Community', 'in', '1973', '(at', 'the', 'same', 'time', 'as', 'the', 'United', 'Kingdom).', 'Between', 'the', 'mid', '1990s', 'and', 'late', '2000s,', 'Ireland', 'saw', 'massive', 'economic', 'boom', '(called', \"'The\", 'Celtic', \"Tiger'),\", 'becoming', 'one', 'of', 'the', 'richest', 'countries', 'in', 'Europe.', 'However,', 'the', 'global', 'banking', 'crisis', 'and', 'subsequent', 'recession', 'have', 'hit', 'Ireland', 'hard,', 'and', 'high', 'levels', 'of', 'unemployment', 'proliferated', 'for', 'the', 'period', '2009', '-', '2013,', 'before', 'a', 'gradual', 'ecomonic', 'recovery.']\n"
     ]
    }
   ],
   "source": [
    "# count the no. of words in a paragraph\n",
    "\n",
    "mytext = \"\"\" The island of Ireland historically consists of 32 counties, of which six, collectively known as Northern Ireland, have remained as part of the United Kingdom since the rest of Ireland gained self government in 1922. The name \"Ireland\" applies to the island as a whole, but in English is also the official name of the independent state (ie the 26 counties which are not part of the United Kingdom), since 1921.\n",
    "\n",
    "Celtic tribes settled on the island in the 4th century BC. Invasions by Norsemen that began in the late 8th century were finally ended when King Brian Boru defeated the Danes in 1014. Norman invasions began in the early 12th century and set in place Ireland's uneasy position within England's sphere of influence. The Act of Union of 1800 - in which Catholics, 90% of the Irish population, were excluded from Parliament - saw Ireland joining the United Kingdom. In the latter half of the 19th century and early 20th century the subject of Irish home rule was a major debate within the British parliament. After several failed attempts, a Home Rule bill finally passed through parliament in 1914 though the start of the first world war saw its indefinite postponement due to heavily armed unionist opposition. A failed rebellion on Easter Monday in 1916, (after which 15 of the surrendered leaders were shot by firing squad and 1 hanged) showed a hint of things to come with years of war to follow, beginning with the Irish War of Independence (1919-1921) and continuing with the Irish Civil War (1922-1923).\n",
    "\n",
    "Eventually a somewhat stable situation emerged with the self government of 26 of Ireland's counties known as the Irish Free State; the remaining six, located in the north of the country comprising two-thirds of the ancient province of Ulster, remained part of the United Kingdom — a status that has continued to the present day. In 1949 the Irish Free State became \"Ireland\" (a.k.a. the Republic of Ireland) and withdrew from the British Commonwealth of Nations.\n",
    "\n",
    "Ireland's history post-partition has been marked with violence, a period known as \"The Troubles\", generally regarded as beginning in the late 1960s, which saw large scale confrontation between opposing paramilitary groups seeking to either keep Northern Ireland as part of the United Kingdom or bring it into Ireland[1] as well as with the security forces. The Troubles saw many ups and downs in intensity of fighting and on many occasions they even spread to terrorist attacks in Britain and continental Europe. Both the government of the UK and Ireland were opposed to all terrorist groups. A peace settlement known as the Good Friday Agreement was finally approved in 1998 and is currently being implemented. All signs point to this agreement holding steady.\n",
    "\n",
    "Though a relatively poor country for much of the 20th century, Ireland joined the European Community in 1973 (at the same time as the United Kingdom). Between the mid 1990s and late 2000s, Ireland saw massive economic boom (called 'The Celtic Tiger'), becoming one of the richest countries in Europe. However, the global banking crisis and subsequent recession have hit Ireland hard, and high levels of unemployment proliferated for the period 2009 - 2013, before a gradual ecomonic recovery.\n",
    "\n",
    " \"\"\"\n",
    "\n",
    "words = mytext.split()\n",
    "print(words)\n",
    "len(words)\n",
    "\n"
   ]
  },
  {
   "cell_type": "code",
   "execution_count": 52,
   "metadata": {},
   "outputs": [
    {
     "name": "stdout",
     "output_type": "stream",
     "text": [
      "TheislandofIrelandhistoricallyconsistsof32counties,ofwhichsix,collectivelyknownasNorthernIreland,haveremainedaspartoftheUnitedKingdomsincetherestofIrelandgainedselfgovernmentin1922.Thename\"Ireland\"appliestotheislandasawhole,butinEnglishisalsotheofficialnameoftheindependentstate(iethe26countieswhicharenotpartoftheUnitedKingdom),since1921.Celtictribessettledontheislandinthe4thcenturyBC.InvasionsbyNorsementhatbeganinthelate8thcenturywerefinallyendedwhenKingBrianBorudefeatedtheDanesin1014.Normaninvasionsbeganintheearly12thcenturyandsetinplaceIreland'suneasypositionwithinEngland'ssphereofinfluence.TheActofUnionof1800-inwhichCatholics,90%oftheIrishpopulation,wereexcludedfromParliament-sawIrelandjoiningtheUnitedKingdom.Inthelatterhalfofthe19thcenturyandearly20thcenturythesubjectofIrishhomerulewasamajordebatewithintheBritishparliament.Afterseveralfailedattempts,aHomeRulebillfinallypassedthroughparliamentin1914thoughthestartofthefirstworldwarsawitsindefinitepostponementduetoheavilyarmedunionistopposition.AfailedrebelliononEasterMondayin1916,(afterwhich15ofthesurrenderedleaderswereshotbyfiringsquadand1hanged)showedahintofthingstocomewithyearsofwartofollow,beginningwiththeIrishWarofIndependence(1919-1921)andcontinuingwiththeIrishCivilWar(1922-1923).Eventuallyasomewhatstablesituationemergedwiththeselfgovernmentof26ofIreland'scountiesknownastheIrishFreeState;theremainingsix,locatedinthenorthofthecountrycomprisingtwo-thirdsoftheancientprovinceofUlster,remainedpartoftheUnitedKingdom—astatusthathascontinuedtothepresentday.In1949theIrishFreeStatebecame\"Ireland\"(a.k.a.theRepublicofIreland)andwithdrewfromtheBritishCommonwealthofNations.Ireland'shistorypost-partitionhasbeenmarkedwithviolence,aperiodknownas\"TheTroubles\",generallyregardedasbeginninginthelate1960s,whichsawlargescaleconfrontationbetweenopposingparamilitarygroupsseekingtoeitherkeepNorthernIrelandaspartoftheUnitedKingdomorbringitintoIreland[1]aswellaswiththesecurityforces.TheTroublessawmanyupsanddownsinintensityoffightingandonmanyoccasionstheyevenspreadtoterroristattacksinBritainandcontinentalEurope.BoththegovernmentoftheUKandIrelandwereopposedtoallterroristgroups.ApeacesettlementknownastheGoodFridayAgreementwasfinallyapprovedin1998andiscurrentlybeingimplemented.Allsignspointtothisagreementholdingsteady.Thougharelativelypoorcountryformuchofthe20thcentury,IrelandjoinedtheEuropeanCommunityin1973(atthesametimeastheUnitedKingdom).Betweenthemid1990sandlate2000s,Irelandsawmassiveeconomicboom(called'TheCelticTiger'),becomingoneoftherichestcountriesinEurope.However,theglobalbankingcrisisandsubsequentrecessionhavehitIrelandhard,andhighlevelsofunemploymentproliferatedfortheperiod2009-2013,beforeagradualecomonicrecovery.\n",
      "The island of Ireland historically consists of 32 counties, of which six, collectively known as Northern Ireland, have remained as part of the United Kingdom since the rest of Ireland gained self government in 1922. The name \"Ireland\" applies to the island as a whole, but in English is also the official name of the independent state (ie the 26 counties which are not part of the United Kingdom), since 1921. Celtic tribes settled on the island in the 4th century BC. Invasions by Norsemen that began in the late 8th century were finally ended when King Brian Boru defeated the Danes in 1014. Norman invasions began in the early 12th century and set in place Ireland's uneasy position within England's sphere of influence. The Act of Union of 1800 - in which Catholics, 90% of the Irish population, were excluded from Parliament - saw Ireland joining the United Kingdom. In the latter half of the 19th century and early 20th century the subject of Irish home rule was a major debate within the British parliament. After several failed attempts, a Home Rule bill finally passed through parliament in 1914 though the start of the first world war saw its indefinite postponement due to heavily armed unionist opposition. A failed rebellion on Easter Monday in 1916, (after which 15 of the surrendered leaders were shot by firing squad and 1 hanged) showed a hint of things to come with years of war to follow, beginning with the Irish War of Independence (1919-1921) and continuing with the Irish Civil War (1922-1923). Eventually a somewhat stable situation emerged with the self government of 26 of Ireland's counties known as the Irish Free State; the remaining six, located in the north of the country comprising two-thirds of the ancient province of Ulster, remained part of the United Kingdom — a status that has continued to the present day. In 1949 the Irish Free State became \"Ireland\" (a.k.a. the Republic of Ireland) and withdrew from the British Commonwealth of Nations. Ireland's history post-partition has been marked with violence, a period known as \"The Troubles\", generally regarded as beginning in the late 1960s, which saw large scale confrontation between opposing paramilitary groups seeking to either keep Northern Ireland as part of the United Kingdom or bring it into Ireland[1] as well as with the security forces. The Troubles saw many ups and downs in intensity of fighting and on many occasions they even spread to terrorist attacks in Britain and continental Europe. Both the government of the UK and Ireland were opposed to all terrorist groups. A peace settlement known as the Good Friday Agreement was finally approved in 1998 and is currently being implemented. All signs point to this agreement holding steady. Though a relatively poor country for much of the 20th century, Ireland joined the European Community in 1973 (at the same time as the United Kingdom). Between the mid 1990s and late 2000s, Ireland saw massive economic boom (called 'The Celtic Tiger'), becoming one of the richest countries in Europe. However, the global banking crisis and subsequent recession have hit Ireland hard, and high levels of unemployment proliferated for the period 2009 - 2013, before a gradual ecomonic recovery.\n",
      "The,island,of,Ireland,historically,consists,of,32,counties,,of,which,six,,collectively,known,as,Northern,Ireland,,have,remained,as,part,of,the,United,Kingdom,since,the,rest,of,Ireland,gained,self,government,in,1922.,The,name,\"Ireland\",applies,to,the,island,as,a,whole,,but,in,English,is,also,the,official,name,of,the,independent,state,(ie,the,26,counties,which,are,not,part,of,the,United,Kingdom),,since,1921.,Celtic,tribes,settled,on,the,island,in,the,4th,century,BC.,Invasions,by,Norsemen,that,began,in,the,late,8th,century,were,finally,ended,when,King,Brian,Boru,defeated,the,Danes,in,1014.,Norman,invasions,began,in,the,early,12th,century,and,set,in,place,Ireland's,uneasy,position,within,England's,sphere,of,influence.,The,Act,of,Union,of,1800,-,in,which,Catholics,,90%,of,the,Irish,population,,were,excluded,from,Parliament,-,saw,Ireland,joining,the,United,Kingdom.,In,the,latter,half,of,the,19th,century,and,early,20th,century,the,subject,of,Irish,home,rule,was,a,major,debate,within,the,British,parliament.,After,several,failed,attempts,,a,Home,Rule,bill,finally,passed,through,parliament,in,1914,though,the,start,of,the,first,world,war,saw,its,indefinite,postponement,due,to,heavily,armed,unionist,opposition.,A,failed,rebellion,on,Easter,Monday,in,1916,,(after,which,15,of,the,surrendered,leaders,were,shot,by,firing,squad,and,1,hanged),showed,a,hint,of,things,to,come,with,years,of,war,to,follow,,beginning,with,the,Irish,War,of,Independence,(1919-1921),and,continuing,with,the,Irish,Civil,War,(1922-1923).,Eventually,a,somewhat,stable,situation,emerged,with,the,self,government,of,26,of,Ireland's,counties,known,as,the,Irish,Free,State;,the,remaining,six,,located,in,the,north,of,the,country,comprising,two-thirds,of,the,ancient,province,of,Ulster,,remained,part,of,the,United,Kingdom,—,a,status,that,has,continued,to,the,present,day.,In,1949,the,Irish,Free,State,became,\"Ireland\",(a.k.a.,the,Republic,of,Ireland),and,withdrew,from,the,British,Commonwealth,of,Nations.,Ireland's,history,post-partition,has,been,marked,with,violence,,a,period,known,as,\"The,Troubles\",,generally,regarded,as,beginning,in,the,late,1960s,,which,saw,large,scale,confrontation,between,opposing,paramilitary,groups,seeking,to,either,keep,Northern,Ireland,as,part,of,the,United,Kingdom,or,bring,it,into,Ireland[1],as,well,as,with,the,security,forces.,The,Troubles,saw,many,ups,and,downs,in,intensity,of,fighting,and,on,many,occasions,they,even,spread,to,terrorist,attacks,in,Britain,and,continental,Europe.,Both,the,government,of,the,UK,and,Ireland,were,opposed,to,all,terrorist,groups.,A,peace,settlement,known,as,the,Good,Friday,Agreement,was,finally,approved,in,1998,and,is,currently,being,implemented.,All,signs,point,to,this,agreement,holding,steady.,Though,a,relatively,poor,country,for,much,of,the,20th,century,,Ireland,joined,the,European,Community,in,1973,(at,the,same,time,as,the,United,Kingdom).,Between,the,mid,1990s,and,late,2000s,,Ireland,saw,massive,economic,boom,(called,'The,Celtic,Tiger'),,becoming,one,of,the,richest,countries,in,Europe.,However,,the,global,banking,crisis,and,subsequent,recession,have,hit,Ireland,hard,,and,high,levels,of,unemployment,proliferated,for,the,period,2009,-,2013,,before,a,gradual,ecomonic,recovery.\n"
     ]
    }
   ],
   "source": [
    "#List to String\n",
    "\n",
    "backtostring = ''.join(words)\n",
    "print(backtostring)\n",
    "backtostring = ' '.join(words)\n",
    "print(backtostring)\n",
    "backtostring = ','.join(words)\n",
    "print(backtostring)"
   ]
  },
  {
   "cell_type": "code",
   "execution_count": 51,
   "metadata": {
    "collapsed": true
   },
   "outputs": [],
   "source": [
    "#print(backtostring)"
   ]
  },
  {
   "cell_type": "code",
   "execution_count": 85,
   "metadata": {},
   "outputs": [
    {
     "name": "stdout",
     "output_type": "stream",
     "text": [
      "hihihihihi\n",
      "hihi\n",
      "['hi', 'hi', 'hi', 'hi', 'hi']\n",
      "['hi', 'hi']\n"
     ]
    }
   ],
   "source": [
    "mystr = \"hi\"\n",
    "print(mystr*5)\n",
    "#print(mylist+5)\n",
    "print(mystr+mystr)\n",
    "\n",
    "#see the difference between string, list\n",
    "mylist = ['hi']\n",
    "print(mylist*5)\n",
    "print(mylist+mylist)"
   ]
  },
  {
   "cell_type": "code",
   "execution_count": 70,
   "metadata": {},
   "outputs": [
    {
     "name": "stdout",
     "output_type": "stream",
     "text": [
      "('SAS', 'R', 'PYTHON', 'SPSS')\n"
     ]
    },
    {
     "ename": "AttributeError",
     "evalue": "'tuple' object has no attribute 'split'",
     "output_type": "error",
     "traceback": [
      "\u001b[0;31m---------------------------------------------------------------------------\u001b[0m",
      "\u001b[0;31mAttributeError\u001b[0m                            Traceback (most recent call last)",
      "\u001b[0;32m<ipython-input-70-23bf488b6412>\u001b[0m in \u001b[0;36m<module>\u001b[0;34m()\u001b[0m\n\u001b[1;32m      3\u001b[0m \u001b[0ma\u001b[0m\u001b[0;34m=\u001b[0m\u001b[0;34m'SAS'\u001b[0m\u001b[0;34m,\u001b[0m \u001b[0;34m'R'\u001b[0m\u001b[0;34m,\u001b[0m \u001b[0;34m'PYTHON'\u001b[0m\u001b[0;34m,\u001b[0m \u001b[0;34m'SPSS'\u001b[0m\u001b[0;34m\u001b[0m\u001b[0m\n\u001b[1;32m      4\u001b[0m \u001b[0mprint\u001b[0m\u001b[0;34m(\u001b[0m\u001b[0ma\u001b[0m\u001b[0;34m)\u001b[0m\u001b[0;34m\u001b[0m\u001b[0m\n\u001b[0;32m----> 5\u001b[0;31m \u001b[0minput_list\u001b[0m \u001b[0;34m=\u001b[0m \u001b[0ma\u001b[0m\u001b[0;34m.\u001b[0m\u001b[0msplit\u001b[0m\u001b[0;34m(\u001b[0m\u001b[0;34m','\u001b[0m\u001b[0;34m)\u001b[0m\u001b[0;34m\u001b[0m\u001b[0m\n\u001b[0m\u001b[1;32m      6\u001b[0m \u001b[0mprint\u001b[0m\u001b[0;34m(\u001b[0m\u001b[0minput_list\u001b[0m\u001b[0;34m)\u001b[0m\u001b[0;34m\u001b[0m\u001b[0m\n\u001b[1;32m      7\u001b[0m \u001b[0mmed_list\u001b[0m \u001b[0;34m=\u001b[0m \u001b[0minput_list\u001b[0m\u001b[0;34m\u001b[0m\u001b[0m\n",
      "\u001b[0;31mAttributeError\u001b[0m: 'tuple' object has no attribute 'split'"
     ]
    }
   ],
   "source": [
    "import ast,sys\n",
    "#input_list = (sys.stdin.read()).split(',')\n",
    "a='SAS', 'R', 'PYTHON', 'SPSS'\n",
    "print(a)\n",
    "input_list = a.split(',')\n",
    "print(input_list)\n",
    "med_list = input_list\n",
    "print(med_list)\n",
    "final_list = med_list.append('SPARK')\n",
    "#final_list = ['SAS', 'R', 'PYTHON', 'SPARK']\n",
    "print(final_list)"
   ]
  },
  {
   "cell_type": "code",
   "execution_count": 77,
   "metadata": {},
   "outputs": [
    {
     "name": "stdout",
     "output_type": "stream",
     "text": [
      "SAS R PYTHON SPSS\n",
      "['SAS', 'R', 'PYTHON', 'SPARK']\n"
     ]
    }
   ],
   "source": [
    "import ast,sys\n",
    "#input_list = (sys.stdin.read()).split(',')\n",
    "a='SAS R PYTHON SPSS'\n",
    "print(a)\n",
    "input_list = a.split()\n",
    "input_list [3] = 'SPARK'\n",
    "#final_list = med_list.append('SPARK')\n",
    "#final_list = ['SAS', 'R', 'PYTHON', 'SPARK']\n",
    "final_list = input_list\n",
    "print(final_list)"
   ]
  },
  {
   "cell_type": "markdown",
   "metadata": {},
   "source": [
    "Q.   string to list conversion\n",
    "Description\n",
    "Convert a string input_str = 'I love Data Science & Python' to a list by splitting it on ‘&’. The sample output for this string will be:\n",
    "['I love Data Science ', ' Python']\n",
    "\n"
   ]
  },
  {
   "cell_type": "code",
   "execution_count": 80,
   "metadata": {},
   "outputs": [
    {
     "name": "stdout",
     "output_type": "stream",
     "text": [
      "['I love Data Science ', ' Python']\n"
     ]
    }
   ],
   "source": [
    "import ast,sys\n",
    "#input_str = sys.stdin.read()\n",
    "input_str = 'I love Data Science & Python'    #string\n",
    "#med = input_str[:]\n",
    "med = input_str.split('&')   #string to list\n",
    "output_str1 = ','.join(med)  #list to string\n",
    "output_list = output_str1.split(',')  #string to list  see the [] comes up\n",
    "print(output_list)"
   ]
  },
  {
   "cell_type": "code",
   "execution_count": 88,
   "metadata": {},
   "outputs": [
    {
     "name": "stdout",
     "output_type": "stream",
     "text": [
      "7\n",
      "29\n",
      "9\n",
      "0\n",
      "[0, 1, 2, 3, 6, 8, 9]\n"
     ]
    }
   ],
   "source": [
    "nums1 =[1,2,9,0,6,3,8]\n",
    "print(len(nums1))\n",
    "print(sum(nums1))\n",
    "print(max(nums1))\n",
    "print(min(nums1))\n",
    "print(sorted(nums1))\n"
   ]
  },
  {
   "cell_type": "code",
   "execution_count": 99,
   "metadata": {},
   "outputs": [
    {
     "name": "stdout",
     "output_type": "stream",
     "text": [
      "['a', 'b', 'c']\n",
      "[1, 2]\n",
      "c\n",
      "[['a', 'b', 'c'], [1, 2]]\n"
     ]
    }
   ],
   "source": [
    "#nested Lists\n",
    "mynestedlist = [['a', 'b', 'c'], [1,2], [3, 4, 8]]\n",
    "print(mynestedlist[0])\n",
    "print(mynestedlist[1])\n",
    "print(mynestedlist[0][2])  #first list da 2nd element\n",
    "print(mynestedlist[0:2])"
   ]
  },
  {
   "cell_type": "markdown",
   "metadata": {},
   "source": [
    "Q.  List to String\n",
    "Description\n",
    "Convert a list ['Pythons syntax is easy to learn', 'Pythons syntax is very clear'] to a string using ‘&’. The sample output of this string will be:\n",
    "Pythons syntax is easy to learn & Pythons syntax is very clear\n",
    "\n",
    "Note that there is a space on both sides of '&' (as usual in English sentences).\n"
   ]
  },
  {
   "cell_type": "code",
   "execution_count": 100,
   "metadata": {},
   "outputs": [
    {
     "name": "stdout",
     "output_type": "stream",
     "text": [
      "I &   & l & o & v & e &   & D & a & t & a &   & S & c & i & e & n & c & e &   & & &   & P & y & t & h & o & n\n"
     ]
    }
   ],
   "source": [
    "import ast,sys\n",
    "#input_str = (sys.stdin.read()).split(',')\n",
    "\n",
    "string_1 = ' & '.join(input_str)\n",
    "\n",
    "print(string_1)"
   ]
  },
  {
   "cell_type": "markdown",
   "metadata": {},
   "source": [
    "q. Nested List\n",
    "Description\n",
    "Extract Python from a nested list input_list =  [['SAS','R'],['Tableau','SQL'],['Python','Java']]\n",
    "\n"
   ]
  },
  {
   "cell_type": "code",
   "execution_count": 102,
   "metadata": {},
   "outputs": [
    {
     "name": "stdout",
     "output_type": "stream",
     "text": [
      "P\n"
     ]
    }
   ],
   "source": [
    "import ast,sys\n",
    "#input_str = sys.stdin.read()\n",
    "#input_list = ast.literal_eval(input_str)\n",
    "\n",
    "answer = input_list[2][0]\n",
    "\n",
    "print(answer)"
   ]
  },
  {
   "cell_type": "code",
   "execution_count": 105,
   "metadata": {},
   "outputs": [
    {
     "name": "stdout",
     "output_type": "stream",
     "text": [
      "[1, 4, 5]\n",
      "[]\n"
     ]
    }
   ],
   "source": [
    "#deleting all elements in the list is by simply pointing it to empty list\n",
    "\n",
    "list1 = [1,4,5]\n",
    "list2 = list1[:]\n",
    "print(list2)\n",
    "list2 = []\n",
    "print(list2)\n",
    "\n"
   ]
  },
  {
   "cell_type": "markdown",
   "metadata": {
    "collapsed": true
   },
   "source": [
    "q. Tuple\n",
    "Description\n",
    "Add the element ‘Python’ to a tuple input_tuple = ('Monty Python', 'British', 1969). Since tuples are immutable, one way to do this is to convert the tuple to a list, add the element, and convert it back to a tuple.\n",
    "\n",
    "To learn how to convert a list to a tuple, search for it on Google / Stack Overflow etc.\n",
    "\n",
    "\n"
   ]
  },
  {
   "cell_type": "code",
   "execution_count": 2,
   "metadata": {},
   "outputs": [
    {
     "name": "stdout",
     "output_type": "stream",
     "text": [
      "('Monty Python', 'British', 1969, 'Python')\n"
     ]
    }
   ],
   "source": [
    "import ast,sys\n",
    "input_str = sys.stdin.read()\n",
    "#input_tuple = ast.literal_eval(input_str)\n",
    "input_tuple = ('Monty Python', 'British', 1969)\n",
    "# Write your code here\n",
    "list1=list(input_tuple)\n",
    "list1.append('Python')\n",
    "tuple_2 = tuple(list1)\n",
    "\n",
    "# Make sure to name the final tuple 'tuple_2'\n",
    "print(tuple_2)"
   ]
  },
  {
   "cell_type": "markdown",
   "metadata": {},
   "source": [
    "Can a tuple consist of a list as an element?\n",
    "Yes, A tuple can contain mutable objects.\n"
   ]
  },
  {
   "cell_type": "markdown",
   "metadata": {},
   "source": [
    "### Dictionaries"
   ]
  },
  {
   "cell_type": "code",
   "execution_count": 21,
   "metadata": {},
   "outputs": [
    {
     "name": "stdout",
     "output_type": "stream",
     "text": [
      "{'name': 'ak', 'age': 33, 'pob': 'mumbai'}\n",
      "33\n",
      "{'name': 'ak', 'age': 27, 'pob': 'mumbai'}\n",
      "dict_keys(['name', 'age', 'pob'])\n",
      "dict_values(['ak', 27, 'mumbai'])\n",
      "['name', 'age', 'pob']\n"
     ]
    }
   ],
   "source": [
    "mydictionary = {'name':'ak', 'age':33, 'pob':'mumbai'}\n",
    "print(mydictionary)\n",
    "print(mydictionary['age'])\n",
    "mydictionary['age'] =27\n",
    "print(mydictionary)\n",
    "print(mydictionary.keys())\n",
    "print(mydictionary.values())\n",
    "print(list(mydictionary.keys()))"
   ]
  },
  {
   "cell_type": "markdown",
   "metadata": {},
   "source": [
    "q: Dict_Error\n",
    "Description\n",
    "From a Dictionary input_dict={'Name': 'Monty', 'Profession': 'Singer' }, get the value of a key ‘Label’ which is not a part of the dictionary, in such a way that Python doesn't hit an error. If the key does not exist in the dictionary, Python should return 'NA'.\n"
   ]
  },
  {
   "cell_type": "code",
   "execution_count": 15,
   "metadata": {},
   "outputs": [
    {
     "name": "stdout",
     "output_type": "stream",
     "text": [
      "NA\n"
     ]
    }
   ],
   "source": [
    "import ast,sys\n",
    "input_str = sys.stdin.read()\n",
    "#input_dict = ast.literal_eval(input_str)\n",
    "input_dict={'Name': 'Monty', 'Profession': 'Singer' }\n",
    "answer = input_dict.get('Label', 'NA')\n",
    "print(answer)"
   ]
  },
  {
   "cell_type": "markdown",
   "metadata": {},
   "source": [
    "q: List of Values in a Dictionary.\n",
    "Description\n",
    "Create a SORTED list of all values from the dictionary input_dict = {'Jack Dorsey' : 'Twitter' , 'Tim Cook' : 'Apple','Jeff Bezos' : 'Amazon' ,'Mukesh Ambani' : 'RJIO'}\n",
    "\n"
   ]
  },
  {
   "cell_type": "code",
   "execution_count": 22,
   "metadata": {},
   "outputs": [
    {
     "name": "stdout",
     "output_type": "stream",
     "text": [
      "['Amazon', 'Apple', 'RJIO', 'Twitter']\n"
     ]
    }
   ],
   "source": [
    "\n",
    "import ast,sys\n",
    "input_str = sys.stdin.read()\n",
    "#input_dict = ast.literal_eval(input_str)\n",
    "input_dict = {'Jack Dorsey' : 'Twitter' , 'Tim Cook' : 'Apple','Jeff Bezos' : 'Amazon' ,'Mukesh Ambani' : 'RJIO'}\n",
    "\n",
    "value_list = sorted(list(input_dict.values()))\n",
    "print(sorted(value_list))"
   ]
  },
  {
   "cell_type": "markdown",
   "metadata": {},
   "source": [
    "Dict_Error\n",
    "Description\n",
    "From a Dictionary input_dict={'Name': 'Monty', 'Profession': 'Singer' }, get the value of a key ‘Label’ which is not a part of the dictionary, in such a way that Python doesn't hit an error. If the key does not exist in the dictionary, Python should return 'NA'.\n"
   ]
  },
  {
   "cell_type": "code",
   "execution_count": 24,
   "metadata": {},
   "outputs": [
    {
     "name": "stdout",
     "output_type": "stream",
     "text": [
      "NA\n"
     ]
    }
   ],
   "source": [
    "import ast,sys\n",
    "input_str = sys.stdin.read()\n",
    "#input_dict = ast.literal_eval(input_str)\n",
    "input_dict = {'Name': 'Monty', 'Profession': 'Singer' }\n",
    "answer = input_dict.get('Label', 'NA')\n",
    "print(answer)"
   ]
  },
  {
   "cell_type": "markdown",
   "metadata": {},
   "source": [
    "Getting a Value from a Dictionary.\n",
    "Description\n",
    "Extract the company headed by Tim Cook from the dictionary {'Jack Dorsey': 'Twitter', 'Tim Cook': 'Apple','Jeff Bezos': 'Amazon','Mukesh Ambani': 'RJIO'}\n"
   ]
  },
  {
   "cell_type": "code",
   "execution_count": 25,
   "metadata": {},
   "outputs": [
    {
     "name": "stdout",
     "output_type": "stream",
     "text": [
      "Apple\n"
     ]
    }
   ],
   "source": [
    "import ast,sys\n",
    "input_str = sys.stdin.read()\n",
    "#input_dict = ast.literal_eval(input_str)\n",
    "input_dict ={'Jack Dorsey': 'Twitter', 'Tim Cook': 'Apple','Jeff Bezos': 'Amazon','Mukesh Ambani': 'RJIO'}\n",
    "name = input_dict['Tim Cook']\n",
    "print(name)"
   ]
  },
  {
   "cell_type": "markdown",
   "metadata": {},
   "source": [
    "\n",
    "d = dict(a=1, b=2)\n",
    "Feedback : dict function can be used to create a dictionary."
   ]
  },
  {
   "cell_type": "markdown",
   "metadata": {},
   "source": [
    "Set_diff\n",
    "Description\n",
    "Find the difference, using difference and symmetric_difference, between list1 and list2, where list1=[1,2,3,4,5,6] list2=[2,3,4,5,6,7,8,9]\n",
    "\n",
    "First, convert the lists into sets and store them as set_1 and set_2. Then store the difference and symmetric difference in answer_1 and answer_2 respectively."
   ]
  },
  {
   "cell_type": "code",
   "execution_count": 30,
   "metadata": {},
   "outputs": [
    {
     "name": "stdout",
     "output_type": "stream",
     "text": [
      "{1}\n",
      "{2, 3, 4, 5, 6}\n",
      "{1, 2, 3, 4, 5, 6, 7, 8, 9}\n"
     ]
    }
   ],
   "source": [
    "import ast,sys\n",
    "input_str = sys.stdin.read()\n",
    "#input_list = ast.literal_eval(input_str)\n",
    "list_1=[1,2,3,4,5,6] \n",
    "list_2=[2,3,4,5,6,7,8,9]\n",
    "\n",
    "#list_1 = input_list[0]\n",
    "#list_2 = input_list[1]\n",
    "\n",
    "set_1 = set(list_1)\n",
    "set_2 = set(list_2)\n",
    "#difference\n",
    "answer_1 = set_1.difference(set_2)    #Type your answer here\n",
    "#symmetric difference or intersection\n",
    "answer_2 = set_1.intersection(set_2)\n",
    "answer_3 = set_1.union(set_2)\n",
    "\n",
    "print(answer_1)\n",
    "print(answer_2)\n",
    "print(answer_3)\n"
   ]
  },
  {
   "cell_type": "markdown",
   "metadata": {},
   "source": [
    "### Conditional statements\n",
    "- if\n",
    "- if else\n",
    "- if, elif, else\n",
    "- nested if"
   ]
  },
  {
   "cell_type": "code",
   "execution_count": 3,
   "metadata": {},
   "outputs": [
    {
     "name": "stdout",
     "output_type": "stream",
     "text": [
      "what's your score55\n",
      "normal\n"
     ]
    }
   ],
   "source": [
    "score = int(input(\"what's your score\"))\n",
    "if score<50:\n",
    "    print (\"bad\")\n",
    "elif score>50 & score <70:\n",
    "    print(\"normal\")\n",
    "else:\n",
    "    print(\"good\")\n",
    "    "
   ]
  },
  {
   "cell_type": "markdown",
   "metadata": {},
   "source": [
    "If Statements (Boolean)\n",
    "What will the following segment of code print? Try doing this verbally.\n",
    "\n",
    "if (10 < 0) and (0 < -10):\n",
    "    print(\"A\")\n",
    "elif (10 > 0) or False:\n",
    "    print(\"B\")\n",
    "else:\n",
    "    print(\"C\")"
   ]
  },
  {
   "cell_type": "markdown",
   "metadata": {},
   "source": [
    "b"
   ]
  },
  {
   "cell_type": "markdown",
   "metadata": {},
   "source": [
    "Q. - if True or True:\n",
    "       - if False and True or False:\n",
    "        print('A')\n",
    "   -  elif False and False or True and True:\n",
    "        print('B')\n",
    "   -  else:\n",
    "        print('C')\n",
    "- else:\n",
    "    print('D')\n",
    "\n",
    "\n",
    "ans - B"
   ]
  },
  {
   "cell_type": "markdown",
   "metadata": {},
   "source": [
    "q.  If-Else\n",
    "Description\n",
    "Write a code to check if the string in input_str starts with a vowel or not. Print capital YES  or NO.\n",
    "\n",
    "For example, if input_str = 'analytics' then, your output should print 'YES'.\n",
    "Execution Time Limit\n",
    "5 seconds\n"
   ]
  },
  {
   "cell_type": "code",
   "execution_count": 6,
   "metadata": {},
   "outputs": [
    {
     "name": "stdout",
     "output_type": "stream",
     "text": [
      "YES\n"
     ]
    }
   ],
   "source": [
    "import ast,sys\n",
    "#input_str = sys.stdin.read()\n",
    "input_str = 'analytics'\n",
    "list1 = list(input_str)\n",
    "vowellist = ['a', 'e', 'i', 'o', 'u']\n",
    "if list1[0] in vowellist:\n",
    "    print(\"YES\")\n",
    "else: print (\"NO\")    \n",
    "    "
   ]
  },
  {
   "cell_type": "markdown",
   "metadata": {},
   "source": [
    "Iterations can be over any collection. The iteration in a string goes over each character; however, in lists and tuples, the iteration goes over each item in turn, and in dictionaries, you can iterate over both keys and values or any one of them. Another keyword — 'enumerate' — can be used to introduce another iterating variable that counts the iterations. Note that it starts with 0.\n",
    "\n",
    " \n",
    "\n",
    "Other commands that can be used are 'break', 'continue', and 'pass'. To see the differences between them, use the following piece of code:\n",
    "\n",
    " "
   ]
  },
  {
   "cell_type": "code",
   "execution_count": 11,
   "metadata": {},
   "outputs": [
    {
     "name": "stdout",
     "output_type": "stream",
     "text": [
      "0\n",
      "1\n",
      "2\n",
      "3\n",
      "4\n",
      "5\n",
      "6\n",
      "7\n",
      "8\n",
      "9\n",
      "10\n",
      "11\n",
      "12\n",
      "13\n",
      "14\n",
      "15\n",
      "16\n",
      "17\n",
      "18\n",
      "19\n",
      "20\n",
      "21\n",
      "22\n",
      "23\n",
      "24\n",
      "25\n",
      "26\n",
      "27\n",
      "28\n",
      "29\n",
      "30\n",
      "31\n",
      "32\n",
      "33\n",
      "34\n",
      "35\n",
      "36\n",
      "37\n",
      "38\n",
      "39\n",
      "40\n",
      "41\n",
      "42\n",
      "43\n",
      "44\n",
      "45\n",
      "46\n",
      "47\n",
      "48\n",
      "49\n",
      "50\n",
      "51\n",
      "Hello\n",
      "52\n",
      "Hello\n",
      "53\n",
      "Hello\n",
      "54\n",
      "Hello\n",
      "55\n",
      "Hello\n",
      "56\n",
      "Hello\n",
      "57\n",
      "Hello\n",
      "58\n",
      "Hello\n",
      "59\n",
      "Hello\n",
      "60\n",
      "Hello\n",
      "61\n",
      "Hello\n",
      "62\n",
      "Hello\n",
      "63\n",
      "Hello\n",
      "64\n",
      "Hello\n",
      "65\n",
      "Hello\n",
      "66\n",
      "Hello\n",
      "67\n",
      "Hello\n",
      "68\n",
      "Hello\n",
      "69\n",
      "Hello\n",
      "70\n",
      "Hello\n",
      "71\n",
      "Hello\n",
      "72\n",
      "Hello\n",
      "73\n",
      "Hello\n",
      "74\n",
      "Hello\n",
      "75\n",
      "Hello\n",
      "76\n",
      "Hello\n",
      "77\n",
      "Hello\n",
      "78\n",
      "Hello\n",
      "79\n",
      "Hello\n",
      "80\n",
      "Hello\n",
      "81\n",
      "Hello\n",
      "82\n",
      "Hello\n",
      "83\n",
      "Hello\n",
      "84\n",
      "Hello\n",
      "85\n",
      "Hello\n",
      "86\n",
      "Hello\n",
      "87\n",
      "Hello\n",
      "88\n",
      "Hello\n",
      "89\n",
      "Hello\n",
      "90\n",
      "Hello\n",
      "91\n",
      "Hello\n",
      "92\n",
      "Hello\n",
      "93\n",
      "Hello\n",
      "94\n",
      "Hello\n",
      "95\n",
      "Hello\n",
      "96\n",
      "Hello\n",
      "97\n",
      "Hello\n",
      "98\n",
      "Hello\n",
      "99\n",
      "Hello\n"
     ]
    }
   ],
   "source": [
    "for i in range(100):\n",
    "    print(i)\n",
    "    if i>50:\n",
    "        #break\n",
    "        #continue\n",
    "        #pass\n",
    "        print(\"Hello\")\n",
    "    #print(\"hi\")    \n",
    "        "
   ]
  },
  {
   "cell_type": "code",
   "execution_count": null,
   "metadata": {
    "collapsed": true
   },
   "outputs": [],
   "source": []
  }
 ],
 "metadata": {
  "kernelspec": {
   "display_name": "Python 3",
   "language": "python",
   "name": "python3"
  },
  "language_info": {
   "codemirror_mode": {
    "name": "ipython",
    "version": 3
   },
   "file_extension": ".py",
   "mimetype": "text/x-python",
   "name": "python",
   "nbconvert_exporter": "python",
   "pygments_lexer": "ipython3",
   "version": "3.6.3"
  }
 },
 "nbformat": 4,
 "nbformat_minor": 2
}
